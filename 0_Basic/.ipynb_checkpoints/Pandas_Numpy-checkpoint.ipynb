{
 "cells": [
  {
   "cell_type": "markdown",
   "id": "f1089c97",
   "metadata": {},
   "source": [
    "## Panas 기초 Review"
   ]
  },
  {
   "cell_type": "markdown",
   "id": "785ec3db",
   "metadata": {},
   "source": [
    "감을 되찾을겸, 기초를 리뷰할 겸 진행했습니다\n",
    "아래 코드 예제는 https://github.com/ukairia777/tensorflow-nlp-tutorial/blob/main/01.%20Introduction/1-4.%20pandas_numpy_matplotlib.ipynb 를 따라했습니다."
   ]
  },
  {
   "cell_type": "markdown",
   "id": "78d665af",
   "metadata": {},
   "source": [
    "### 1) Series"
   ]
  },
  {
   "cell_type": "code",
   "execution_count": 2,
   "id": "e02f9346",
   "metadata": {},
   "outputs": [],
   "source": [
    "import pandas as pd"
   ]
  },
  {
   "cell_type": "code",
   "execution_count": 3,
   "id": "00b42bb8",
   "metadata": {},
   "outputs": [],
   "source": [
    "series = pd.Series([17000, 18000, 1000, 5000],\n",
    "                  index = [\"피자\", \"치킨\", \"콜라\", \"맥주\"])"
   ]
  },
  {
   "cell_type": "code",
   "execution_count": 5,
   "id": "5d7b1f12",
   "metadata": {},
   "outputs": [
    {
     "name": "stdout",
     "output_type": "stream",
     "text": [
      "피자    17000\n",
      "치킨    18000\n",
      "콜라     1000\n",
      "맥주     5000\n",
      "dtype: int64\n"
     ]
    }
   ],
   "source": [
    "print(series)"
   ]
  },
  {
   "cell_type": "markdown",
   "id": "31c6cbe2",
   "metadata": {},
   "source": [
    "### 2) DataFrame"
   ]
  },
  {
   "cell_type": "code",
   "execution_count": 6,
   "id": "5d75999b",
   "metadata": {},
   "outputs": [
    {
     "name": "stdout",
     "output_type": "stream",
     "text": [
      "       A  B  C\n",
      "one    1  2  3\n",
      "two    4  5  6\n",
      "three  7  8  9\n"
     ]
    }
   ],
   "source": [
    "values = [[1,2,3], [4,5,6], [7,8,9]]\n",
    "index = ['one', 'two', 'three']  ## 세로줄 (열 이름, 각 줄)\n",
    "columns = ['A', 'B', 'C']   ## 가로행 (행 이름)\n",
    "\n",
    "df = pd.DataFrame(values, index=index, columns=columns)\n",
    "\n",
    "print(df)"
   ]
  },
  {
   "cell_type": "code",
   "execution_count": 8,
   "id": "9fc88077",
   "metadata": {},
   "outputs": [
    {
     "name": "stdout",
     "output_type": "stream",
     "text": [
      "     0        1  2\n",
      "0  100    Steve  1\n",
      "1  200      ada  2\n",
      "2  300  hyunwoo  3\n"
     ]
    }
   ],
   "source": [
    "## 데이터 프레임을 생성하는 보통 방법: 리스트\n",
    "data = [\n",
    "    ['100', 'Steve', 1],\n",
    "    ['200', 'ada', 2],\n",
    "    ['300', 'hyunwoo', 3]\n",
    "]\n",
    "\n",
    "df = pd.DataFrame(data)\n",
    "print(df)"
   ]
  },
  {
   "cell_type": "code",
   "execution_count": 9,
   "id": "f10f3c4f",
   "metadata": {},
   "outputs": [
    {
     "name": "stdout",
     "output_type": "stream",
     "text": [
      "    학번       이름  점수\n",
      "0  100    Steve   1\n",
      "1  200      ada   2\n",
      "2  300  hyunwoo   3\n"
     ]
    }
   ],
   "source": [
    "df = pd.DataFrame(data, columns=['학번','이름', '점수'])\n",
    "print(df)"
   ]
  },
  {
   "cell_type": "code",
   "execution_count": 10,
   "id": "42aed5ec",
   "metadata": {},
   "outputs": [
    {
     "name": "stdout",
     "output_type": "stream",
     "text": [
      "    학번       이름  점수\n",
      "0  100    Steve   1\n",
      "1  200      ada   2\n",
      "2  300  hyunwoo   3\n"
     ]
    }
   ],
   "source": [
    "print(df.head(3))"
   ]
  },
  {
   "cell_type": "code",
   "execution_count": 11,
   "id": "4f128ac1",
   "metadata": {},
   "outputs": [
    {
     "name": "stdout",
     "output_type": "stream",
     "text": [
      "    학번       이름  점수\n",
      "1  200      ada   2\n",
      "2  300  hyunwoo   3\n"
     ]
    }
   ],
   "source": [
    "print(df.tail(2))"
   ]
  },
  {
   "cell_type": "code",
   "execution_count": 12,
   "id": "4151d3b3",
   "metadata": {},
   "outputs": [],
   "source": [
    "### 보통은 직접 dataFrame을 만들기보다는 csv 에서 읽어옵니다\n",
    "### df = pd.read_csv('./input/data.csv')"
   ]
  },
  {
   "cell_type": "markdown",
   "id": "da0ad2c2",
   "metadata": {},
   "source": [
    "## Numpy 기초 리뷰"
   ]
  },
  {
   "cell_type": "code",
   "execution_count": 13,
   "id": "ecf230d2",
   "metadata": {},
   "outputs": [],
   "source": [
    "import numpy as np"
   ]
  },
  {
   "cell_type": "code",
   "execution_count": 14,
   "id": "2dc865bc",
   "metadata": {},
   "outputs": [],
   "source": [
    "vec = np.array([1,2,3,4,5])"
   ]
  },
  {
   "cell_type": "code",
   "execution_count": 15,
   "id": "0d881657",
   "metadata": {},
   "outputs": [
    {
     "name": "stdout",
     "output_type": "stream",
     "text": [
      "[1 2 3 4 5]\n"
     ]
    }
   ],
   "source": [
    "print(vec)"
   ]
  },
  {
   "cell_type": "code",
   "execution_count": 17,
   "id": "fdd3ca84",
   "metadata": {},
   "outputs": [
    {
     "name": "stdout",
     "output_type": "stream",
     "text": [
      "[[1 2 3]\n",
      " [4 5 6]]\n"
     ]
    }
   ],
   "source": [
    "mat = np.array([[1,2,3],[4,5,6]])\n",
    "print(mat)"
   ]
  },
  {
   "cell_type": "code",
   "execution_count": 18,
   "id": "1f61c937",
   "metadata": {},
   "outputs": [
    {
     "name": "stdout",
     "output_type": "stream",
     "text": [
      "2\n",
      "1\n",
      "(2, 3)\n"
     ]
    }
   ],
   "source": [
    "print(mat.ndim)\n",
    "print(vec.ndim)\n",
    "print(mat.shape)"
   ]
  },
  {
   "cell_type": "markdown",
   "id": "1af590e7",
   "metadata": {},
   "source": [
    "np. zeros"
   ]
  },
  {
   "cell_type": "code",
   "execution_count": 19,
   "id": "e91e045a",
   "metadata": {},
   "outputs": [
    {
     "name": "stdout",
     "output_type": "stream",
     "text": [
      "[[0. 0. 0.]\n",
      " [0. 0. 0.]]\n"
     ]
    }
   ],
   "source": [
    "zero_mat = np.zeros((2,3))\n",
    "print(zero_mat)"
   ]
  },
  {
   "cell_type": "markdown",
   "id": "6ee1c960",
   "metadata": {},
   "source": [
    "np.ones"
   ]
  },
  {
   "cell_type": "code",
   "execution_count": 20,
   "id": "79b261de",
   "metadata": {},
   "outputs": [
    {
     "name": "stdout",
     "output_type": "stream",
     "text": [
      "[[1. 1. 1.]\n",
      " [1. 1. 1.]]\n"
     ]
    }
   ],
   "source": [
    "one_mat = np.ones((2,3))\n",
    "print(one_mat)"
   ]
  },
  {
   "cell_type": "markdown",
   "id": "3c6c8065",
   "metadata": {},
   "source": [
    "np.full"
   ]
  },
  {
   "cell_type": "code",
   "execution_count": 21,
   "id": "e5b09ee2",
   "metadata": {},
   "outputs": [
    {
     "name": "stdout",
     "output_type": "stream",
     "text": [
      "[[7 7]\n",
      " [7 7]]\n"
     ]
    }
   ],
   "source": [
    "full_mat= np.full((2,2), 7)\n",
    "print(full_mat)"
   ]
  },
  {
   "cell_type": "markdown",
   "id": "5776b5f5",
   "metadata": {},
   "source": [
    "np.eye"
   ]
  },
  {
   "cell_type": "code",
   "execution_count": 22,
   "id": "67bed4ac",
   "metadata": {},
   "outputs": [
    {
     "name": "stdout",
     "output_type": "stream",
     "text": [
      "[[1. 0. 0. 0. 0.]\n",
      " [0. 1. 0. 0. 0.]\n",
      " [0. 0. 1. 0. 0.]\n",
      " [0. 0. 0. 1. 0.]\n",
      " [0. 0. 0. 0. 1.]]\n"
     ]
    }
   ],
   "source": [
    "eye_mat = np.eye(5)\n",
    "print(eye_mat)"
   ]
  },
  {
   "cell_type": "markdown",
   "id": "a31f5584",
   "metadata": {},
   "source": [
    "np.random"
   ]
  },
  {
   "cell_type": "code",
   "execution_count": 24,
   "id": "d103385c",
   "metadata": {},
   "outputs": [
    {
     "name": "stdout",
     "output_type": "stream",
     "text": [
      "[[0.85794378 0.50530825 0.49398705 0.29405667]\n",
      " [0.40541007 0.73334777 0.3508353  0.78842709]\n",
      " [0.35768116 0.71635335 0.83047695 0.69190559]]\n"
     ]
    }
   ],
   "source": [
    "ran_mat = np.random.random((3,4))\n",
    "print(ran_mat)"
   ]
  },
  {
   "cell_type": "markdown",
   "id": "94f69ae6",
   "metadata": {},
   "source": [
    "np.arange"
   ]
  },
  {
   "cell_type": "code",
   "execution_count": 28,
   "id": "e1cd2650",
   "metadata": {},
   "outputs": [
    {
     "name": "stdout",
     "output_type": "stream",
     "text": [
      "[ 0  1  2  3  4  5  6  7  8  9 10 11 12 13 14 15 16 17 18 19]\n"
     ]
    }
   ],
   "source": [
    "ran_vec = np.arange(20)\n",
    "print(ran_vec)"
   ]
  },
  {
   "cell_type": "markdown",
   "id": "481e16a4",
   "metadata": {},
   "source": [
    "*** reshape"
   ]
  },
  {
   "cell_type": "code",
   "execution_count": 29,
   "id": "7790a5a3",
   "metadata": {},
   "outputs": [
    {
     "name": "stdout",
     "output_type": "stream",
     "text": [
      "[[ 0  1  2  3  4  5  6  7  8  9]\n",
      " [10 11 12 13 14 15 16 17 18 19]]\n",
      "[[ 0  1  2  3  4]\n",
      " [ 5  6  7  8  9]\n",
      " [10 11 12 13 14]\n",
      " [15 16 17 18 19]]\n",
      "[[ 0  1  2  3]\n",
      " [ 4  5  6  7]\n",
      " [ 8  9 10 11]\n",
      " [12 13 14 15]\n",
      " [16 17 18 19]]\n"
     ]
    }
   ],
   "source": [
    "r_mat1 = np.array(ran_vec.reshape(2,10))\n",
    "r_mat2 = np.array(ran_vec.reshape(4,5))\n",
    "r_mat3 = np.array(ran_vec.reshape(5,4))\n",
    "print(r_mat1)\n",
    "print(r_mat2)\n",
    "print(r_mat3)"
   ]
  },
  {
   "cell_type": "markdown",
   "id": "de550c05",
   "metadata": {},
   "source": [
    "Numpy 슬라이싱"
   ]
  },
  {
   "cell_type": "code",
   "execution_count": 31,
   "id": "98fc7145",
   "metadata": {},
   "outputs": [
    {
     "name": "stdout",
     "output_type": "stream",
     "text": [
      "[[1 2 3]\n",
      " [4 5 6]]\n"
     ]
    }
   ],
   "source": [
    "mat = np.array([[1,2,3],[4,5,6]])\n",
    "print(mat)"
   ]
  },
  {
   "cell_type": "code",
   "execution_count": 32,
   "id": "3e1cd424",
   "metadata": {},
   "outputs": [
    {
     "name": "stdout",
     "output_type": "stream",
     "text": [
      "[1 2 3]\n"
     ]
    }
   ],
   "source": [
    "slicing_mat = mat[0,:]\n",
    "print(slicing_mat)"
   ]
  },
  {
   "cell_type": "code",
   "execution_count": 33,
   "id": "74c93849",
   "metadata": {},
   "outputs": [
    {
     "name": "stdout",
     "output_type": "stream",
     "text": [
      "[2 5]\n"
     ]
    }
   ],
   "source": [
    "slicing_mat = mat[:,1]\n",
    "print(slicing_mat)"
   ]
  },
  {
   "cell_type": "markdown",
   "id": "212ed982",
   "metadata": {},
   "source": [
    "Numpy 인덱싱"
   ]
  },
  {
   "cell_type": "code",
   "execution_count": 34,
   "id": "a6e24923",
   "metadata": {},
   "outputs": [
    {
     "name": "stdout",
     "output_type": "stream",
     "text": [
      "[[1 2 3]\n",
      " [4 5 6]\n",
      " [7 8 9]]\n"
     ]
    }
   ],
   "source": [
    "mat = np.array([[1,2,3],[4,5,6],[7,8,9]])\n",
    "print(mat)"
   ]
  },
  {
   "cell_type": "code",
   "execution_count": 37,
   "id": "834aa2e4",
   "metadata": {},
   "outputs": [
    {
     "name": "stdout",
     "output_type": "stream",
     "text": [
      "[7 5]\n"
     ]
    }
   ],
   "source": [
    "print(mat[[2,1],[0,1]])"
   ]
  },
  {
   "cell_type": "code",
   "execution_count": 38,
   "id": "d97aefaf",
   "metadata": {},
   "outputs": [
    {
     "name": "stdout",
     "output_type": "stream",
     "text": [
      "[7 5 6]\n"
     ]
    }
   ],
   "source": [
    "print(mat[[2,1,1],[0,1,2]])"
   ]
  },
  {
   "cell_type": "markdown",
   "id": "022748e1",
   "metadata": {},
   "source": [
    "#### Numpy 연산"
   ]
  },
  {
   "cell_type": "code",
   "execution_count": 39,
   "id": "515b3417",
   "metadata": {},
   "outputs": [],
   "source": [
    "x = np.array([1,2,3])\n",
    "y = np.array([4,5,6])"
   ]
  },
  {
   "cell_type": "code",
   "execution_count": 44,
   "id": "dd760667",
   "metadata": {},
   "outputs": [
    {
     "name": "stdout",
     "output_type": "stream",
     "text": [
      "[5 7 9]\n",
      "[-3 -3 -3]\n",
      "[-3 -6 -9]\n",
      "[-3. -3. -3.]\n"
     ]
    }
   ],
   "source": [
    "result_1 = x+y\n",
    "result_2 = x-y\n",
    "result_3 = (x-y)*x\n",
    "\n",
    "print(result_1)\n",
    "print(result_2)\n",
    "print(result_3)\n",
    "result_4 = result_3/x\n",
    "print(result_4)"
   ]
  },
  {
   "cell_type": "code",
   "execution_count": 45,
   "id": "47e0e893",
   "metadata": {},
   "outputs": [
    {
     "name": "stdout",
     "output_type": "stream",
     "text": [
      "[[19 22]\n",
      " [43 50]]\n"
     ]
    }
   ],
   "source": [
    "mat1 = np.array([[1,2],[3,4]])\n",
    "mat2 = np.array([[5,6],[7,8]])\n",
    "\n",
    "mat3 = np.dot(mat1, mat2)\n",
    "print(mat3)"
   ]
  },
  {
   "cell_type": "markdown",
   "id": "1a95d803",
   "metadata": {},
   "source": [
    "## Matplotlib"
   ]
  },
  {
   "cell_type": "code",
   "execution_count": 46,
   "id": "83d14af4",
   "metadata": {},
   "outputs": [],
   "source": [
    "import matplotlib.pyplot as plt"
   ]
  },
  {
   "cell_type": "code",
   "execution_count": 47,
   "id": "7ac3087e",
   "metadata": {},
   "outputs": [
    {
     "data": {
      "image/png": "[encoded data removed]",
      "text/plain": [
       "<Figure size 640x480 with 1 Axes>"
      ]
     },
     "metadata": {},
     "output_type": "display_data"
    }
   ],
   "source": [
    "plt.title('test')\n",
    "plt.plot([1,2,3,4],[2,4,8,6])\n",
    "plt.show()"
   ]
  },
  {
   "cell_type": "code",
   "execution_count": 49,
   "id": "d5f30330",
   "metadata": {},
   "outputs": [
    {
     "data": {
      "image/png": "[encoded data removed]",
      "text/plain": [
       "<Figure size 640x480 with 1 Axes>"
      ]
     },
     "metadata": {},
     "output_type": "display_data"
    }
   ],
   "source": [
    "plt.title('test')\n",
    "plt.plot([1,2,3,4],[2,4,8,6])\n",
    "plt.xlabel('hours')\n",
    "plt.ylabel('score')\n",
    "plt.show()"
   ]
  },
  {
   "cell_type": "code",
   "execution_count": 51,
   "id": "3a397dc5",
   "metadata": {},
   "outputs": [
    {
     "data": {
      "image/png": "[encoded data removed]",
      "text/plain": [
       "<Figure size 640x480 with 1 Axes>"
      ]
     },
     "metadata": {},
     "output_type": "display_data"
    }
   ],
   "source": [
    "plt.title('students')\n",
    "plt.plot([1,2.1,3,4],[2,4,8,6])\n",
    "plt.plot([1.5,2.5,3.5,4.5],[3,5,8,10])\n",
    "plt.xlabel('hours')\n",
    "plt.ylabel('score')\n",
    "plt.legend(['A student', 'B student'])\n",
    "plt.show()"
   ]
  },
  {
   "cell_type": "code",
   "execution_count": null,
   "id": "82e5f05a",
   "metadata": {},
   "outputs": [],
   "source": []
  }
 ],
 "metadata": {
  "kernelspec": {
   "display_name": "Python 3 (ipykernel)",
   "language": "python",
   "name": "python3"
  },
  "language_info": {
   "codemirror_mode": {
    "name": "ipython",
    "version": 3
   },
   "file_extension": ".py",
   "mimetype": "text/x-python",
   "name": "python",
   "nbconvert_exporter": "python",
   "pygments_lexer": "ipython3",
   "version": "3.11.0"
  }
 },
 "nbformat": 4,
 "nbformat_minor": 5
}
